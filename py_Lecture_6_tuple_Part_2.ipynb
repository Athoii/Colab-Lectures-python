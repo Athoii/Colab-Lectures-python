{
  "nbformat": 4,
  "nbformat_minor": 0,
  "metadata": {
    "colab": {
      "provenance": []
    },
    "kernelspec": {
      "name": "python3",
      "display_name": "Python 3"
    },
    "language_info": {
      "name": "python"
    }
  },
  "cells": [
    {
      "cell_type": "markdown",
      "source": [
        "# **Tuple**"
      ],
      "metadata": {
        "id": "iOtvaELRLrGS"
      }
    },
    {
      "cell_type": "markdown",
      "source": [
        "**A tuple is a collection which is ordered and unchangeable.**\n",
        "\n",
        "---\n",
        "\n"
      ],
      "metadata": {
        "id": "x0sZ-iFxO68c"
      }
    },
    {
      "cell_type": "code",
      "source": [
        "# declare a tuple\n",
        "\n",
        "thistuple = (\"mpple\", \"banana\", \"cherry\")\n",
        "print(thistuple)\n",
        "print(len(thistuple))\n",
        "\n",
        "print()\n",
        "mytuple = tuple([1,2,3,100])\n",
        "print(mytuple)"
      ],
      "metadata": {
        "colab": {
          "base_uri": "https://localhost:8080/"
        },
        "id": "lYvAJ1J8PDFC",
        "outputId": "b22c5e26-5bcd-4e87-fa6c-c37f85982e6e"
      },
      "execution_count": null,
      "outputs": [
        {
          "output_type": "stream",
          "name": "stdout",
          "text": [
            "('mpple', 'banana', 'cherry')\n",
            "3\n",
            "\n",
            "(1, 2, 3)\n"
          ]
        }
      ]
    },
    {
      "cell_type": "markdown",
      "source": [
        "**Ordered**\n",
        "\n",
        "---\n",
        "\n",
        "\n",
        "\n",
        "When we say that tuples are ordered, it means that the items have a defined order, and that order will not change."
      ],
      "metadata": {
        "id": "WnGv8AjjPF7p"
      }
    },
    {
      "cell_type": "code",
      "source": [
        "thistuple = (\"apple\", \"banana\", \"cherry\")\n",
        "\n",
        "#can index over the tuple as it is ordered\n",
        "print(thistuple[0])\n",
        "print(thistuple[2])\n",
        "\n",
        "i = 0\n",
        "while i < len(thistuple):\n",
        "  print(thistuple[i])\n",
        "  i+=1\n",
        "\n",
        "#can use for loop to access the items\n",
        "for i in thistuple:\n",
        "  print(i)"
      ],
      "metadata": {
        "colab": {
          "base_uri": "https://localhost:8080/"
        },
        "id": "94A9W7ccPKRh",
        "outputId": "2fa532f3-b0e2-4f93-8e79-b22bab403ab0"
      },
      "execution_count": null,
      "outputs": [
        {
          "output_type": "stream",
          "name": "stdout",
          "text": [
            "apple\n",
            "cherry\n",
            "apple\n",
            "banana\n",
            "cherry\n",
            "apple\n",
            "banana\n",
            "cherry\n"
          ]
        }
      ]
    },
    {
      "cell_type": "markdown",
      "source": [
        "**Unchangeable**\n",
        "\n",
        "---\n",
        "\n",
        "\n",
        "\n",
        "Tuples are unchangeable, meaning that we **cannot change**, **add or remove** items after the tuple has been created."
      ],
      "metadata": {
        "id": "ZzL1fVwnPOxb"
      }
    },
    {
      "cell_type": "code",
      "source": [
        "thistuple = (\"apple\", \"banana\", \"cherry\")\n",
        "print(thistuple)\n",
        "\n",
        "#cannot remove items\n",
        "#thistuple.remove(\"banana\")\n",
        "#print(thistuple)\n",
        "\n",
        "# cannot add new items\n",
        "thistuple.add(\"pineapple\")\n",
        "print(thistuple)\n",
        "\n",
        "# cant change the items.\n",
        "#thistuple[1] = 'mango'\n",
        "#print(thistuple)\n"
      ],
      "metadata": {
        "colab": {
          "base_uri": "https://localhost:8080/",
          "height": 257
        },
        "id": "Mg8kJAoaPW0t",
        "outputId": "113decfe-d6ca-46b8-889a-d2b26df7e85a"
      },
      "execution_count": null,
      "outputs": [
        {
          "output_type": "stream",
          "name": "stdout",
          "text": [
            "('apple', 'banana', 'cherry')\n"
          ]
        },
        {
          "output_type": "error",
          "ename": "AttributeError",
          "evalue": "ignored",
          "traceback": [
            "\u001b[0;31m---------------------------------------------------------------------------\u001b[0m",
            "\u001b[0;31mAttributeError\u001b[0m                            Traceback (most recent call last)",
            "\u001b[0;32m<ipython-input-10-c60c797a7e66>\u001b[0m in \u001b[0;36m<cell line: 9>\u001b[0;34m()\u001b[0m\n\u001b[1;32m      7\u001b[0m \u001b[0;34m\u001b[0m\u001b[0m\n\u001b[1;32m      8\u001b[0m \u001b[0;31m# cannot add new items\u001b[0m\u001b[0;34m\u001b[0m\u001b[0;34m\u001b[0m\u001b[0m\n\u001b[0;32m----> 9\u001b[0;31m \u001b[0mthistuple\u001b[0m\u001b[0;34m.\u001b[0m\u001b[0madd\u001b[0m\u001b[0;34m(\u001b[0m\u001b[0;34m\"pineapple\"\u001b[0m\u001b[0;34m)\u001b[0m\u001b[0;34m\u001b[0m\u001b[0;34m\u001b[0m\u001b[0m\n\u001b[0m\u001b[1;32m     10\u001b[0m \u001b[0mprint\u001b[0m\u001b[0;34m(\u001b[0m\u001b[0mthistuple\u001b[0m\u001b[0;34m)\u001b[0m\u001b[0;34m\u001b[0m\u001b[0;34m\u001b[0m\u001b[0m\n\u001b[1;32m     11\u001b[0m \u001b[0;34m\u001b[0m\u001b[0m\n",
            "\u001b[0;31mAttributeError\u001b[0m: 'tuple' object has no attribute 'add'"
          ]
        }
      ]
    },
    {
      "cell_type": "markdown",
      "source": [
        "**Allow Duplicates**\n",
        "\n",
        "---\n",
        "\n"
      ],
      "metadata": {
        "id": "FRA43za1PXWg"
      }
    },
    {
      "cell_type": "code",
      "source": [
        "thistuple = (\"apple\", \"banana\", \"cherry\", \"apple\", \"cherry\")\n",
        "print(thistuple)"
      ],
      "metadata": {
        "colab": {
          "base_uri": "https://localhost:8080/"
        },
        "id": "qZL9ZVR_PaJz",
        "outputId": "2c970db7-5124-4981-d9e2-02663e48e856"
      },
      "execution_count": null,
      "outputs": [
        {
          "output_type": "stream",
          "name": "stdout",
          "text": [
            "('apple', 'banana', 'cherry', 'apple', 'cherry')\n"
          ]
        }
      ]
    }
  ]
}