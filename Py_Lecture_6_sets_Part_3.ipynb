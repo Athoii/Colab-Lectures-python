{
  "nbformat": 4,
  "nbformat_minor": 0,
  "metadata": {
    "colab": {
      "provenance": []
    },
    "kernelspec": {
      "name": "python3",
      "display_name": "Python 3"
    },
    "language_info": {
      "name": "python"
    }
  },
  "cells": [
    {
      "cell_type": "markdown",
      "source": [
        "# **Sets**"
      ],
      "metadata": {
        "id": "pIOltjeTNmmi"
      }
    },
    {
      "cell_type": "markdown",
      "source": [
        "**A set is a collection which is unordered, unchangeable, and unindexed.**"
      ],
      "metadata": {
        "id": "OPkRKAPTIih5"
      }
    },
    {
      "cell_type": "code",
      "source": [
        "thisset = {\"apple\", \"banana\", \"cherry\"}\n",
        "print(thisset)"
      ],
      "metadata": {
        "colab": {
          "base_uri": "https://localhost:8080/"
        },
        "id": "UU8OTWbTInjN",
        "outputId": "1e630f6f-5e68-4738-8fcd-b8e28887ec65"
      },
      "execution_count": null,
      "outputs": [
        {
          "output_type": "stream",
          "name": "stdout",
          "text": [
            "{'apple', 'cherry', 'banana'}\n"
          ]
        }
      ]
    },
    {
      "cell_type": "markdown",
      "source": [
        "**set items are Unordered**\n",
        "\n",
        "---\n",
        "\n",
        "\n",
        "\n",
        "Unordered means that the items in a set do not have a defined order. Set items can appear in a different order every time you use them, and **cannot be referred to by index or key.**"
      ],
      "metadata": {
        "id": "uBPfDiZ8I3Nr"
      }
    },
    {
      "cell_type": "code",
      "source": [
        "thisset = {\"apple\", \"banana\", \"cherry\"}\n",
        "print(thisset)\n",
        "thisset.add('mango')\n",
        "print(thisset)\n",
        "thisset.add('watermelon')\n",
        "print(thisset)"
      ],
      "metadata": {
        "colab": {
          "base_uri": "https://localhost:8080/"
        },
        "id": "a8dqAI1WItkt",
        "outputId": "d39cea25-1b28-4977-e0cc-793831bd6c1b"
      },
      "execution_count": null,
      "outputs": [
        {
          "output_type": "stream",
          "name": "stdout",
          "text": [
            "{'apple', 'cherry', 'banana'}\n",
            "{'apple', 'cherry', 'mango', 'banana'}\n",
            "{'apple', 'banana', 'cherry', 'watermelon', 'mango'}\n"
          ]
        }
      ]
    },
    {
      "cell_type": "markdown",
      "source": [
        "**Unchangeable**\n",
        "\n",
        "---\n",
        "\n",
        "\n",
        "\n",
        "Set items are unchangeable, meaning that we cannot change the items after the set has been created.\n",
        "\n",
        "*but you can remove items and add new items.*"
      ],
      "metadata": {
        "id": "0d5qjuV7JBz0"
      }
    },
    {
      "cell_type": "code",
      "source": [
        "# add items to the set\n",
        "thisset = {\"apple\", \"banana\", \"cherry\"}\n",
        "print('thisset: ', thisset)\n",
        "print('size: ', len(thisset))\n",
        "\n",
        "thisset.add(\"orange\")\n",
        "print('thisset after adding: ', thisset)\n",
        "print('size: ', len(thisset))\n",
        "\n",
        "print()\n",
        "#merge sets\n",
        "tropical = {\"pineapple\", \"mango\", \"papaya\"}\n",
        "thisset.update(tropical)\n",
        "print('thisset after merging with tropical: ', thisset)\n",
        "print('size: ', len(thisset))\n",
        "\n",
        "print()\n",
        "#add any iterables (list or tuple) with the sets\n",
        "mylist = [\"kiwi\", \"orange\"]\n",
        "thisset.update(mylist)\n",
        "print('thisset after merging with mylist: ', thisset)\n",
        "print('size: ', len(thisset))\n",
        "\n",
        "print()\n",
        "#remove items\n",
        "thisset.remove(\"banana\")\n",
        "print('thisset after removing banana: ', thisset)\n",
        "print('size: ', len(thisset))"
      ],
      "metadata": {
        "colab": {
          "base_uri": "https://localhost:8080/"
        },
        "id": "1dq9QHaSJLBR",
        "outputId": "bfc7bfff-6271-4235-fa78-2c3fb0f467b1"
      },
      "execution_count": null,
      "outputs": [
        {
          "output_type": "stream",
          "name": "stdout",
          "text": [
            "thisset:  {'cherry', 'banana', 'apple'}\n",
            "size:  3\n",
            "thisset after adding:  {'cherry', 'orange', 'banana', 'apple'}\n",
            "size:  4\n",
            "\n",
            "thisset after merging with tropical:  {'cherry', 'apple', 'mango', 'papaya', 'orange', 'pineapple', 'banana'}\n",
            "size:  7\n",
            "\n",
            "thisset after merging with mylist:  {'cherry', 'apple', 'mango', 'kiwi', 'papaya', 'orange', 'pineapple', 'banana'}\n",
            "size:  8\n",
            "\n",
            "thisset after removing banana:  {'cherry', 'apple', 'mango', 'kiwi', 'papaya', 'orange', 'pineapple'}\n",
            "size:  7\n"
          ]
        }
      ]
    },
    {
      "cell_type": "markdown",
      "source": [
        "**Duplicates Not Allowed**\n",
        "\n",
        "---\n",
        "\n",
        "\n",
        "\n",
        "Sets cannot have two items with the same value."
      ],
      "metadata": {
        "id": "Z65yKVu3JLWC"
      }
    },
    {
      "cell_type": "code",
      "source": [
        "thisset = {\"apple\", \"banana\", \"cherry\", \"apple\"}\n",
        "print('thisset (apple is added only once): ', thisset)\n",
        "print('size: ', len(thisset))\n",
        "\n",
        "print()\n",
        "myList = ['tea', 'coffee', 'tea', 'water']\n",
        "thisset.update(myList)\n",
        "\n",
        "print('thisset after merging with myList: ', thisset)\n",
        "print('size: ', len(thisset))"
      ],
      "metadata": {
        "colab": {
          "base_uri": "https://localhost:8080/"
        },
        "id": "S_kKiX60JONX",
        "outputId": "b8d1675c-7a11-4a71-a449-e65788ce279b"
      },
      "execution_count": null,
      "outputs": [
        {
          "output_type": "stream",
          "name": "stdout",
          "text": [
            "thisset (apple is added only once):  {'cherry', 'banana', 'apple'}\n",
            "size:  3\n",
            "\n",
            "thisset after merging with myList:  {'tea', 'apple', 'cherry', 'water', 'coffee', 'banana'}\n",
            "size:  6\n"
          ]
        }
      ]
    },
    {
      "cell_type": "markdown",
      "source": [
        "**How to access Set items**\n",
        "\n",
        "---\n",
        "\n"
      ],
      "metadata": {
        "id": "sm_z_ih2J3EL"
      }
    },
    {
      "cell_type": "code",
      "source": [
        "thisset = {\"apple\", \"banana\", \"cherry\"}\n",
        "\n",
        "for x in thisset:\n",
        "  print(x)"
      ],
      "metadata": {
        "colab": {
          "base_uri": "https://localhost:8080/"
        },
        "id": "FNNuNfbvJ6MU",
        "outputId": "02e850e5-7194-40d7-a1ce-433c1e35817f"
      },
      "execution_count": null,
      "outputs": [
        {
          "output_type": "stream",
          "name": "stdout",
          "text": [
            "apple\n",
            "cherry\n",
            "banana\n"
          ]
        }
      ]
    },
    {
      "cell_type": "markdown",
      "source": [
        "**Exercise: 1 Can we access elements in a Set using while loop? Why or why not?**"
      ],
      "metadata": {
        "id": "VbfE4apBQnaz"
      }
    },
    {
      "cell_type": "markdown",
      "source": [],
      "metadata": {
        "id": "VqRb5IZnTMC9"
      }
    },
    {
      "cell_type": "markdown",
      "source": [
        "**Exercise 2: Can we access elements in the Set with slicing operator? Why or Why not?**"
      ],
      "metadata": {
        "id": "d2AF8cJsQuwT"
      }
    },
    {
      "cell_type": "markdown",
      "source": [
        "**Exercise 3: What would be the output of the following program?**"
      ],
      "metadata": {
        "id": "7C6ezGauREuP"
      }
    },
    {
      "cell_type": "markdown",
      "source": [
        "thisSet = set([1,2,3,4,4,3,1,7,8])\n",
        "\n",
        "print('thisSet: ', thisSet)\n",
        "\n",
        "print('size: ', len(thisSet))\n",
        "\n",
        "print()\n",
        "\n",
        "myTuple = (4,8,8,9,6,6)\n",
        "\n",
        "print('myTuple: ', myTuple)\n",
        "\n",
        "print('size: ', len(myTuple))\n",
        "\n",
        "print()\n",
        "\n",
        "thisSet.update(myTuple)\n",
        "\n",
        "print('thisSet: ', thisSet)\n",
        "\n",
        "print('size: ', len(thisSet))"
      ],
      "metadata": {
        "id": "G7zIo4h8THfq"
      }
    },
    {
      "cell_type": "markdown",
      "source": [
        "**Additional Resources**\n",
        "\n",
        "https://www.w3schools.com/python/python_sets_methods.asp\n",
        "\n",
        "https://www.w3schools.com/python/python_sets_exercises.asp"
      ],
      "metadata": {
        "id": "yje3dj6ROAWp"
      }
    }
  ]
}