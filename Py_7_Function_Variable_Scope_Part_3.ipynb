{
  "nbformat": 4,
  "nbformat_minor": 0,
  "metadata": {
    "colab": {
      "provenance": []
    },
    "kernelspec": {
      "name": "python3",
      "display_name": "Python 3"
    },
    "language_info": {
      "name": "python"
    }
  },
  "cells": [
    {
      "cell_type": "markdown",
      "source": [
        "# **Function Return value**\n",
        "\n",
        "---\n",
        "\n"
      ],
      "metadata": {
        "id": "nlR0FRJASBb3"
      }
    },
    {
      "cell_type": "markdown",
      "source": [
        "**Function can return nothing**\n",
        "\n",
        "---\n",
        "\n"
      ],
      "metadata": {
        "id": "0mEg7WYASM7I"
      }
    },
    {
      "cell_type": "code",
      "source": [
        "# No return statement if the function does not return anything.\n",
        "def printMe(info):\n",
        "  print(info)\n",
        "\n",
        "printMe('This is me. I am printed now')"
      ],
      "metadata": {
        "colab": {
          "base_uri": "https://localhost:8080/"
        },
        "id": "0CAZhYpCSREQ",
        "outputId": "82b8f295-9901-4946-dd14-5045cc00a1ac"
      },
      "execution_count": null,
      "outputs": [
        {
          "output_type": "stream",
          "name": "stdout",
          "text": [
            "This is me. I am printed now\n"
          ]
        }
      ]
    },
    {
      "cell_type": "code",
      "source": [
        "# return statement with no return value if the function does not return anything.\n",
        "def printAll(*info):\n",
        "  for val in info:\n",
        "    print(val)\n",
        "  return              # empty return statement as the function does not return anything\n",
        "\n",
        "\n",
        "printAll('Syeed', 'Associate Professor', 'CSE', 11111, '007@gmail.com')\n",
        "\n"
      ],
      "metadata": {
        "colab": {
          "base_uri": "https://localhost:8080/"
        },
        "id": "KlE8mQD9SRQA",
        "outputId": "0c8417a8-5aa0-44b6-e075-46f71f773fdb"
      },
      "execution_count": null,
      "outputs": [
        {
          "output_type": "stream",
          "name": "stdout",
          "text": [
            "Syeed\n",
            "Associate Professor\n",
            "CSE\n",
            "11111\n",
            "007@gmail.com\n"
          ]
        }
      ]
    },
    {
      "cell_type": "markdown",
      "source": [
        "**Function can return a single value**\n",
        "\n",
        "---\n",
        "\n"
      ],
      "metadata": {
        "id": "6KjmcHUGSRkY"
      }
    },
    {
      "cell_type": "code",
      "source": [
        "def calculateSum(*nums):\n",
        "  sum = 0\n",
        "  for val in nums:\n",
        "    sum += val\n",
        "  return sum\n",
        "\n",
        "total = calculateSum(12, 50, -10, 200)\n",
        "print('sum is: ', total)"
      ],
      "metadata": {
        "colab": {
          "base_uri": "https://localhost:8080/"
        },
        "id": "2lxgdcRkSVqt",
        "outputId": "a999823e-d7d0-411a-ae73-d255f7bb3b8a"
      },
      "execution_count": null,
      "outputs": [
        {
          "output_type": "stream",
          "name": "stdout",
          "text": [
            "sum is:  252\n"
          ]
        }
      ]
    },
    {
      "cell_type": "markdown",
      "source": [
        "**Function can return number of values**\n",
        "\n",
        "---\n",
        "\n"
      ],
      "metadata": {
        "id": "uSDgh4ymSV_8"
      }
    },
    {
      "cell_type": "code",
      "source": [
        "def calculateStat(*nums):\n",
        "  maxi = max(nums)\n",
        "  mini = min(nums)\n",
        "\n",
        "  sum = 0\n",
        "  for val in nums:\n",
        "    sum += val\n",
        "  avg = sum // len(nums)\n",
        "\n",
        "  return [maxi, mini, avg]\n",
        "\n",
        "results = calculateStat(12, 50, -10, 200)\n",
        "print('max: ', results[0])\n",
        "print('min: ', results[1])\n",
        "print('avg: ', results[2])"
      ],
      "metadata": {
        "colab": {
          "base_uri": "https://localhost:8080/"
        },
        "id": "6V5NULhrTkO1",
        "outputId": "b501af49-da57-431c-aeec-a234e7083018"
      },
      "execution_count": null,
      "outputs": [
        {
          "output_type": "stream",
          "name": "stdout",
          "text": [
            "max:  200\n",
            "min:  -10\n",
            "avg:  63\n"
          ]
        }
      ]
    },
    {
      "cell_type": "markdown",
      "source": [
        "# **Scope of variable – Global or Local**"
      ],
      "metadata": {
        "id": "iOtvaELRLrGS"
      }
    },
    {
      "cell_type": "markdown",
      "source": [
        "**Local variable:** Variables that are defined inside a function body have a local scope.\n",
        "\n",
        "**Global Variable:** Variables defined outside any function have a global scope.\n",
        "\n",
        "*Local variables are accessible only inside the function in which they are declared.*\n",
        "\n",
        "*Global variables can be accessed throughout the program body by all functions.*"
      ],
      "metadata": {
        "id": "adNIFXKVLCLL"
      }
    },
    {
      "cell_type": "markdown",
      "source": [
        "**Example: 1**\n",
        "\n",
        "---\n",
        "\n",
        "In the following example we have two **Global Variables (name and studentId)** and two **Local Variables (age and result)**\n",
        "\n"
      ],
      "metadata": {
        "id": "x0sZ-iFxO68c"
      }
    },
    {
      "cell_type": "code",
      "source": [
        "name = 'Python'     # this is a global variable as it is declared outside all the functions\n",
        "\n",
        "def ageFunction():\n",
        "  age = 22   # this is a local variable as it is declared inside a function\n",
        "\n",
        "def getResult():\n",
        "  result = input('Enter your CGPA: ')   # this is a local variable as it is declared inside a function\n",
        "\n",
        "studentId = 12345  # this is a global variable as it is declared outside all the functions"
      ],
      "metadata": {
        "id": "lYvAJ1J8PDFC"
      },
      "execution_count": null,
      "outputs": []
    },
    {
      "cell_type": "markdown",
      "source": [
        "**Global and local variable accessability**\n",
        "\n",
        "---\n",
        "\n",
        "\n",
        "\n",
        "*   **Global Variables** are accessable from anywhere in the program.\n",
        "*   **Local Variables** are accessable only inside a function where it is declared.\n",
        "\n"
      ],
      "metadata": {
        "id": "WnGv8AjjPF7p"
      }
    },
    {
      "cell_type": "code",
      "source": [
        "def afunction():\n",
        "    n3 = 35\n",
        "    print('local n3 = ', n3)\n",
        "    print('Global (inside function) n2= ', n2)    # accessing global variable inside a function\n",
        "    return\n",
        "\n",
        "\n",
        "n2 = 'This is global variable'\n",
        "afunction()\n",
        "\n",
        "def printValue():\n",
        "  print('n3 = ', n3)                             # ERROR! Can't access a local variable outside the function in which it is defined.\n",
        "\n",
        "\n",
        "print('Global (outside function) n2= ', n2)      # accessing global variable outside a function\n",
        "print('Local of afunction() n3: ', n3)           # ERROR! Can't access a local variable outside the function in which it is defined.\n",
        "printValue()\n",
        "\n"
      ],
      "metadata": {
        "id": "94A9W7ccPKRh"
      },
      "execution_count": null,
      "outputs": []
    },
    {
      "cell_type": "markdown",
      "source": [
        "**Exercise: 1**\n",
        "\n",
        "---\n",
        "\n",
        "Will there be any error in the following program? Explain your observation in detail."
      ],
      "metadata": {
        "id": "ZzL1fVwnPOxb"
      }
    },
    {
      "cell_type": "code",
      "source": [
        "welcomeNote = 'Welcome to ABC University'\n",
        "name = \"\"\n",
        "id = 0\n",
        "def getName():\n",
        "  name = \"ABC\"\n",
        "\n",
        "def getId():\n",
        "  id = 123\n",
        "\n",
        "def printAllInfo():\n",
        "  print(welcomeNote)\n",
        "  print('-----------------------------------')\n",
        "  print(f'Dear {name}, your id is {id} and you are a valid student in the Dept. of CSE.')\n",
        "\n",
        "getName()\n",
        "getId()\n",
        "printAllInfo()"
      ],
      "metadata": {
        "id": "Mg8kJAoaPW0t",
        "colab": {
          "base_uri": "https://localhost:8080/"
        },
        "outputId": "8f26ae06-8c4c-4c35-a5d1-c444ee07711e"
      },
      "execution_count": null,
      "outputs": [
        {
          "output_type": "stream",
          "name": "stdout",
          "text": [
            "Welcome to ABC University\n",
            "-----------------------------------\n",
            "Dear , your id is 0 and you are a valid student in the Dept. of CSE.\n"
          ]
        }
      ]
    },
    {
      "cell_type": "markdown",
      "source": [
        "**Exercise: 2**\n",
        "\n",
        "---\n",
        "\n",
        "Rewrite the above program so that the issues are resolved keeping all the functions and function calling unchanged.\n"
      ],
      "metadata": {
        "id": "FRA43za1PXWg"
      }
    },
    {
      "cell_type": "code",
      "source": [
        "# Rewrite your program here\n",
        "\n"
      ],
      "metadata": {
        "id": "qZL9ZVR_PaJz"
      },
      "execution_count": null,
      "outputs": []
    }
  ]
}