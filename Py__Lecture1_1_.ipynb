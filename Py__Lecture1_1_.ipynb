{
  "nbformat": 4,
  "nbformat_minor": 0,
  "metadata": {
    "colab": {
      "provenance": []
    },
    "kernelspec": {
      "name": "python3",
      "display_name": "Python 3"
    },
    "language_info": {
      "name": "python"
    }
  },
  "cells": [
    {
      "cell_type": "markdown",
      "source": [
        "# **Basic of print() function**\n",
        "\n",
        "---\n",
        "\n"
      ],
      "metadata": {
        "id": "z8mJhHpiiujI"
      }
    },
    {
      "cell_type": "code",
      "execution_count": null,
      "metadata": {
        "colab": {
          "base_uri": "https://localhost:8080/"
        },
        "id": "GQ1oNW-gfyR-",
        "outputId": "0cb6f334-d62b-4dfa-d199-0ca0ca993728"
      },
      "outputs": [
        {
          "output_type": "stream",
          "name": "stdout",
          "text": [
            "Hello Python! This is me trying to learn you!!\n"
          ]
        }
      ],
      "source": [
        "print('Hello Python! This is me trying to learn you!!')"
      ]
    },
    {
      "cell_type": "code",
      "source": [
        "print('To,\\nMahbubul Haq Bhuiyan, Adjunct Lecturer,\\nCSC101L Course Instructor,\\nDeprtment of CSE, IUB.')"
      ],
      "metadata": {
        "colab": {
          "base_uri": "https://localhost:8080/"
        },
        "id": "y-Fh2kKYiSij",
        "outputId": "131ccfc2-f5b3-4fd9-a6c8-3d9a306d05ec"
      },
      "execution_count": null,
      "outputs": [
        {
          "output_type": "stream",
          "name": "stdout",
          "text": [
            "To,\n",
            "Mahbubul Haq Bhuiyan, Adjunct Lecturer,\n",
            "CSC101L Course Instructor,\n",
            "Deprtment of CSE, IUB.\n"
          ]
        }
      ]
    },
    {
      "cell_type": "markdown",
      "source": [
        "**Exercise 1: Print your full name and department name**"
      ],
      "metadata": {
        "id": "maEFGGrihM6x"
      }
    },
    {
      "cell_type": "code",
      "source": [
        "print('sinthia mizan athoi ,cse')"
      ],
      "metadata": {
        "id": "c5cD1JAuhRzP",
        "colab": {
          "base_uri": "https://localhost:8080/"
        },
        "outputId": "be540557-3af9-4eeb-e1e3-f38fa52b9993"
      },
      "execution_count": null,
      "outputs": [
        {
          "output_type": "stream",
          "name": "stdout",
          "text": [
            "sinthia mizan athoi ,cse\n"
          ]
        }
      ]
    },
    {
      "cell_type": "markdown",
      "source": [
        "**Exercise 2: print your name, student id, email address, section and course id as follows**\n",
        "\n",
        "my name:\n",
        "\n",
        "student id:\n",
        "\n",
        "email:\n",
        "\n",
        "section:\n",
        "\n",
        "course id:"
      ],
      "metadata": {
        "id": "QDBWiFcChSbH"
      }
    },
    {
      "cell_type": "code",
      "source": [
        "print('my name:athoi, \\nstudent id:221 \\nsection:3 ')"
      ],
      "metadata": {
        "id": "hySgSuY1h1N1",
        "colab": {
          "base_uri": "https://localhost:8080/"
        },
        "outputId": "23f87314-be41-46c7-b6b7-25e227da4f82"
      },
      "execution_count": null,
      "outputs": [
        {
          "output_type": "stream",
          "name": "stdout",
          "text": [
            "my name:athoi, \n",
            "student id:221 \n",
            "section:3 \n"
          ]
        }
      ]
    },
    {
      "cell_type": "markdown",
      "source": [
        "#**Commenting the code**\n",
        "\n",
        "---\n",
        "\n",
        "Comment are the messages to describe what your code does and is good for understanding your code. It is not part of the code."
      ],
      "metadata": {
        "id": "bqoivReti4G7"
      }
    },
    {
      "cell_type": "code",
      "source": [
        "#printing the name\n",
        "print('My name is Mahbubul Haq Bhuiyan')\n",
        "print('I am the faculty of this course') # defining the faculty responsibility"
      ],
      "metadata": {
        "id": "fly1JVn7i97u",
        "colab": {
          "base_uri": "https://localhost:8080/"
        },
        "outputId": "a77bf831-d2ff-4741-b375-f98a7f7a993f"
      },
      "execution_count": null,
      "outputs": [
        {
          "output_type": "stream",
          "name": "stdout",
          "text": [
            "My name is Mahbubul Haq Bhuiyan\n",
            "I am the faculty of this course\n"
          ]
        }
      ]
    },
    {
      "cell_type": "markdown",
      "source": [
        "**Exercise: 3 Comment each line of the following code with appropriate message**"
      ],
      "metadata": {
        "id": "FIR6AX-HlgGp"
      }
    },
    {
      "cell_type": "code",
      "source": [
        "print('Course name: Introduction to Programming') #......\n",
        "print('Course code: CSC101L')\n",
        "print('Semester: 1st')\n",
        "print('Year: 1st')"
      ],
      "metadata": {
        "id": "XiwDnKJ5lmPg",
        "colab": {
          "base_uri": "https://localhost:8080/"
        },
        "outputId": "98bf8056-a3c6-4f4e-e0af-8a5b9cba78d5"
      },
      "execution_count": null,
      "outputs": [
        {
          "output_type": "stream",
          "name": "stdout",
          "text": [
            "Course name: Introduction to Programming\n",
            "Course code: CSC101L\n",
            "Semester: 1st\n",
            "Year: 1st\n"
          ]
        }
      ]
    },
    {
      "cell_type": "markdown",
      "source": [
        "#**Multi-line Comments**\n",
        "---\n",
        "\n",
        "Multi-line comments work same as single line comments, just here you can use multiple lines as comments without giving '#' before each line of commenets"
      ],
      "metadata": {
        "id": "zgfSnisTN0IK"
      }
    },
    {
      "cell_type": "code",
      "source": [
        "\n",
        "'''\n",
        "multi-line comments check\n",
        "check2\n",
        "check3\n",
        "Single ' works here\n",
        "'''\n",
        "\n",
        "\n",
        "print(\"hello \")\n",
        "\"\"\"\n",
        "multi-line comments check\n",
        "check2\n",
        "check3\n",
        "Double \" works here\n",
        "\"\"\"\n",
        "\n",
        "print(\"Hi\")\n",
        "\n",
        "\n",
        "\n",
        "\n"
      ],
      "metadata": {
        "colab": {
          "base_uri": "https://localhost:8080/"
        },
        "id": "VmWvRPBPN_pG",
        "outputId": "0dfe904b-6541-4bca-dcdb-9b98fe4aa039"
      },
      "execution_count": null,
      "outputs": [
        {
          "output_type": "stream",
          "name": "stdout",
          "text": [
            "hello \n",
            "Hi\n"
          ]
        }
      ]
    },
    {
      "cell_type": "code",
      "source": [
        "'''\n",
        "abcd\n",
        "efgh\n",
        "hijk\n",
        "'''\n",
        "print('athoi')"
      ],
      "metadata": {
        "colab": {
          "base_uri": "https://localhost:8080/"
        },
        "id": "eNJ8r3DVm7RL",
        "outputId": "675fcfc6-762f-4576-ef04-33d16bb6457b"
      },
      "execution_count": null,
      "outputs": [
        {
          "output_type": "stream",
          "name": "stdout",
          "text": [
            "athoi\n"
          ]
        }
      ]
    },
    {
      "cell_type": "markdown",
      "source": [
        "**Exercise:4 Add Multi-line comments for the code below**"
      ],
      "metadata": {
        "id": "dnUfvYEKPN7g"
      }
    },
    {
      "cell_type": "code",
      "source": [
        "\n",
        "print(\"Hello world!\")\n",
        "print(\"I am Mr. X!\")\n",
        "print(\"I am learning python\")\n"
      ],
      "metadata": {
        "id": "yKcP0PdjPU_m",
        "colab": {
          "base_uri": "https://localhost:8080/"
        },
        "outputId": "30268141-b7e9-4e8e-997e-ba91c01ad851"
      },
      "execution_count": null,
      "outputs": [
        {
          "output_type": "stream",
          "name": "stdout",
          "text": [
            "Hello world!\n",
            "I am Mr. X!\n",
            "I am learning python\n"
          ]
        }
      ]
    },
    {
      "cell_type": "markdown",
      "source": [
        "#**Multi-line printing (single, double and tripple quotation)**\n",
        "\n",
        "---\n",
        "\n"
      ],
      "metadata": {
        "id": "fSST9RslmRmP"
      }
    },
    {
      "cell_type": "code",
      "source": [
        "#Single quation for single line text printing\n",
        "print('This is Mahbubul Haq Bhuiyan. Currently working as an Adjunct Lecturer, Department of CSE, Indepenedent University, Bangladesh')\n",
        "\n",
        "#Double quotation has the same purpose as of the single quotation\n",
        "print(\"This is Mahbubul Haq Bhuiyan. Currently working as an Adjunct Lecturer, Department of CSE, Indepenedent University, Bangladesh\")"
      ],
      "metadata": {
        "colab": {
          "base_uri": "https://localhost:8080/"
        },
        "id": "Cw2h2QMxmahA",
        "outputId": "f2d527d2-de41-45bf-8375-235c33720a44"
      },
      "execution_count": null,
      "outputs": [
        {
          "output_type": "stream",
          "name": "stdout",
          "text": [
            "This is Mahbubul Haq Bhuiyan. Currently working as an Adjunct Lecturer, Department of CSE, Indepenedent University, Bangladesh\n",
            "This is Mahbubul Haq Bhuiyan. Currently working as an Adjunct Lecturer, Department of CSE, Indepenedent University, Bangladesh\n"
          ]
        }
      ]
    },
    {
      "cell_type": "code",
      "source": [
        "#Tripple quotation are used for MULTI line printing\n",
        "print('''This is Mahbubul Haq Bhuiyan.\n",
        "Currently working as an Adjunct Lecturer,\n",
        "Department of CSE,\n",
        "Indepenedent University, Bangladesh''')"
      ],
      "metadata": {
        "colab": {
          "base_uri": "https://localhost:8080/"
        },
        "id": "PZwq_I46m1Vh",
        "outputId": "d8409c2c-a900-47a6-dd94-974501260ac2"
      },
      "execution_count": null,
      "outputs": [
        {
          "output_type": "stream",
          "name": "stdout",
          "text": [
            "This is Mahbubul Haq Bhuiyan.\n",
            "Currently working as an Adjunct Lecturer,\n",
            "Department of CSE,\n",
            "Indepenedent University, Bangladesh\n"
          ]
        }
      ]
    },
    {
      "cell_type": "markdown",
      "source": [
        "**Exercise: 5 Print the following multiline message using single print statement with triple '''**\n",
        "\n",
        "Hard work pays off.\n",
        "\n",
        "The harder you work, the more people will notice.\n",
        "\n",
        "– Sydney Sweeney"
      ],
      "metadata": {
        "id": "uj4xeROvnpMl"
      }
    },
    {
      "cell_type": "code",
      "source": [
        "print('''Hard work pays off.\n",
        "\n",
        "The harder you work, the more people will notice.\n",
        "\n",
        "– Sydney Sweeney\n",
        "\n",
        "''')"
      ],
      "metadata": {
        "id": "0PsfILRbnzeF",
        "colab": {
          "base_uri": "https://localhost:8080/"
        },
        "outputId": "cc0b476e-c92e-4b22-dcc6-20cb08e148ce"
      },
      "execution_count": null,
      "outputs": [
        {
          "output_type": "stream",
          "name": "stdout",
          "text": [
            "Hard work pays off.\n",
            "\n",
            "The harder you work, the more people will notice.\n",
            "\n",
            "– Sydney Sweeney\n",
            "\n",
            "\n"
          ]
        }
      ]
    },
    {
      "cell_type": "markdown",
      "source": [
        "#**Variables**\n",
        "\n",
        "---\n",
        "\n",
        "\n",
        "\n",
        "Variables are nothing but reserved memory locations to store values."
      ],
      "metadata": {
        "id": "zoRbqqHYolPP"
      }
    },
    {
      "cell_type": "code",
      "source": [
        "name = 'Mahbubul Haq Bhuiyan'               #name is a variable that stores the text 'Mahbubul Haq Bhuiyan'\n",
        "id = 1234                             #id is a variable that stores the number 1234\n",
        "email = \"mh_bhuiyan.sets@iub.edu.bd\"    #email is a variable that stores 'mh_bhuiyan.sets@iub.edu.bd'\n",
        "\n",
        "# NOTE! There is no quotation marks for the variables in print statement\n",
        "# print each of the variable values\n",
        "print(name)\n",
        "print(id)\n",
        "print(email)"
      ],
      "metadata": {
        "colab": {
          "base_uri": "https://localhost:8080/"
        },
        "id": "ZL-XKPhEovna",
        "outputId": "33ce9d68-067d-4da2-c45e-a22959dfd71e"
      },
      "execution_count": null,
      "outputs": [
        {
          "output_type": "stream",
          "name": "stdout",
          "text": [
            "Mahbubul Haq Bhuiyan\n",
            "1234\n",
            "mh_bhuiyan.sets@iub.edu.bd\n"
          ]
        }
      ]
    },
    {
      "cell_type": "code",
      "source": [
        "name = 'Mahbubul Haq Bhuiyan'               #name is a variable that stores the text 'Mahbubul Haq Bhuiyan'\n",
        "id = 1234                             #id is a variable that stores the number 1234\n",
        "email = \"mh_bhuiyan.sets@iub.edu.bd\"    #email is a variable that stores 'mh_bhuiyan.sets@iub.edu.bd'\n",
        "\n",
        "# NOTE! There is no quotation marks for the variables in print statement\n",
        "\n",
        "# print multiple variables in single print statement\n",
        "print(name, id, email)\n",
        "\n",
        "print(name,',',id,',',email)\n",
        "\n",
        "print(name,'\\n',id,'\\n',email)\n",
        "\n",
        "print('Your name: ', name, '\\nYour id: ', id,'\\nYour email: ', email)\n"
      ],
      "metadata": {
        "colab": {
          "base_uri": "https://localhost:8080/"
        },
        "id": "cCPx1YngqKHF",
        "outputId": "ba9c3208-c976-4fdf-99f6-9192f497ff60"
      },
      "execution_count": null,
      "outputs": [
        {
          "output_type": "stream",
          "name": "stdout",
          "text": [
            "Mahbubul Haq Bhuiyan 1234 mh_bhuiyan.sets@iub.edu.bd\n",
            "Mahbubul Haq Bhuiyan , 1234 , mh_bhuiyan.sets@iub.edu.bd\n",
            "Mahbubul Haq Bhuiyan \n",
            " 1234 \n",
            " mh_bhuiyan.sets@iub.edu.bd\n",
            "Your name:  Mahbubul Haq Bhuiyan \n",
            "Your id:  1234 \n",
            "Your email:  mh_bhuiyan.sets@iub.edu.bd\n",
            "Mahbubul Haq Bhuiyan,1234,mh_bhuiyan.sets@iub.edu.bd\n"
          ]
        }
      ]
    },
    {
      "cell_type": "markdown",
      "source": [
        "**Exercise 6: use five variables to store your name, student id, email address, section and course id and then print them using five print() statements**"
      ],
      "metadata": {
        "id": "-Q8HbNVYpB9U"
      }
    },
    {
      "cell_type": "code",
      "source": [
        "name= 'athoi'\n",
        "id=122\n",
        "email ='sinthiaathoi@gmail.com'\n",
        "section=3\n",
        "courseid=12\n",
        "print('My name',name)\n",
        "print(id)\n",
        "print(email)\n",
        "print(section)\n",
        "print(courseid)\n",
        "\n"
      ],
      "metadata": {
        "id": "zBJdVgOgpQQz",
        "colab": {
          "base_uri": "https://localhost:8080/"
        },
        "outputId": "be9cb3b9-8e89-4e5b-a157-cef3a2b22018"
      },
      "execution_count": null,
      "outputs": [
        {
          "output_type": "stream",
          "name": "stdout",
          "text": [
            "My name athoi\n",
            "122\n",
            "sinthiaathoi@gmail.com\n",
            "3\n",
            "12\n"
          ]
        }
      ]
    },
    {
      "cell_type": "markdown",
      "source": [
        "**Exercise 7: use three variables to store your student id, course name, CGPA and then print them using single print() statement. The print will be exactly is follows:**\n",
        "\n",
        "Student id:\n",
        "\n",
        "Course name:\n",
        "\n",
        "Student CGPA:"
      ],
      "metadata": {
        "id": "OBZnuLOWq-TN"
      }
    },
    {
      "cell_type": "code",
      "source": [
        "# Variables means one word only\n",
        "\n",
        "student_id= 123\n",
        "course_name= 'cse101'\n",
        "student_cgpa=3\n",
        "print('student id:',student_id,'\\ncourse name:',course_name,'\\nstudent cgpa:',student_cgpa)"
      ],
      "metadata": {
        "id": "Gybxs0tjrU-j",
        "colab": {
          "base_uri": "https://localhost:8080/"
        },
        "outputId": "517ecb72-909d-4f5c-fc15-f6d90a9d2707"
      },
      "execution_count": null,
      "outputs": [
        {
          "output_type": "stream",
          "name": "stdout",
          "text": [
            "student id: 123 \n",
            "course name: cse101 \n",
            "student cgpa: 3\n"
          ]
        }
      ]
    },
    {
      "cell_type": "markdown",
      "source": [
        "**Assigning value to multiple variables**"
      ],
      "metadata": {
        "id": "z57CzOl3dwfH"
      }
    },
    {
      "cell_type": "code",
      "source": [
        "# Python allows you to assign a single value to several variables simultaneously\n",
        "a = b = c = 1\n",
        "print('a = ', a, 'b = ', b, 'c = ', c)"
      ],
      "metadata": {
        "colab": {
          "base_uri": "https://localhost:8080/"
        },
        "id": "xg2f-YROeY0V",
        "outputId": "cd1cc41a-ec72-45a2-c996-f3d987af186c"
      },
      "execution_count": null,
      "outputs": [
        {
          "output_type": "stream",
          "name": "stdout",
          "text": [
            "a =  1 b =  1 c =  1\n"
          ]
        }
      ]
    },
    {
      "cell_type": "code",
      "source": [
        "# You can also assign multiple values to multiple variables\n",
        "a, b, c = 1, 12.34, 'Jems Bond 420'\n",
        "\n",
        "print('a = ', a)\n",
        "print('b = ', b)\n",
        "print('c = ', c)"
      ],
      "metadata": {
        "colab": {
          "base_uri": "https://localhost:8080/"
        },
        "id": "I47RUKMUet8n",
        "outputId": "f29edac1-9af8-4ffe-aa93-254c59195baf"
      },
      "execution_count": null,
      "outputs": [
        {
          "output_type": "stream",
          "name": "stdout",
          "text": [
            "a =  1\n",
            "b =  12.34\n",
            "c =  Jems Bond 420\n"
          ]
        }
      ]
    },
    {
      "cell_type": "markdown",
      "source": [
        "**Exercise 8: Using a single assignment operator assign the values 7, 8.91, 'Jonny Jonny Yes Pappa' and 'This is 2023 Summer' to 4 different variables. Then print their values.**"
      ],
      "metadata": {
        "id": "nJaypPOdfJuK"
      }
    },
    {
      "cell_type": "code",
      "source": [],
      "metadata": {
        "id": "aSX2353ufj-Q"
      },
      "execution_count": null,
      "outputs": []
    },
    {
      "cell_type": "markdown",
      "source": [
        "#**Formatting printing using print() function**\n",
        "\n",
        "---\n",
        "\n"
      ],
      "metadata": {
        "id": "0Cp_8expYTnq"
      }
    },
    {
      "cell_type": "markdown",
      "source": [
        "**Formatting Option: 1**"
      ],
      "metadata": {
        "id": "uqXgvC0vhKuk"
      }
    },
    {
      "cell_type": "code",
      "source": [
        "name = 'Mustafa'\n",
        "id = 420\n",
        "print(\"Welcome %s with id %d to the class\" %(name,id))"
      ],
      "metadata": {
        "colab": {
          "base_uri": "https://localhost:8080/"
        },
        "id": "IsIuPGNmYYhi",
        "outputId": "1ae044cc-b060-48eb-afb2-7fd73a518349"
      },
      "execution_count": null,
      "outputs": [
        {
          "output_type": "stream",
          "name": "stdout",
          "text": [
            "Welcome Mustafa with id 420 to the class\n"
          ]
        }
      ]
    },
    {
      "cell_type": "markdown",
      "source": [
        "**Formatting Option: 2**"
      ],
      "metadata": {
        "id": "v8cRG_31hRZw"
      }
    },
    {
      "cell_type": "code",
      "source": [
        "name = 'Mustafa'\n",
        "id = 420\n",
        "print(\"Welcome {} with id {} to the class\".format(name,id))"
      ],
      "metadata": {
        "colab": {
          "base_uri": "https://localhost:8080/"
        },
        "id": "GVcmaTyShX-B",
        "outputId": "28a14594-c18f-4a20-e9d4-e7f0b5a54689"
      },
      "execution_count": null,
      "outputs": [
        {
          "output_type": "stream",
          "name": "stdout",
          "text": [
            "Welcome Mustafa with id 420 to the class\n"
          ]
        }
      ]
    },
    {
      "cell_type": "markdown",
      "source": [
        "**Formatting Option: 3**"
      ],
      "metadata": {
        "id": "YaUgXJYShRtn"
      }
    },
    {
      "cell_type": "code",
      "source": [
        "name = 'Mustafa'\n",
        "id = 420\n",
        "print(f\"Welcome {name} with id {id} to the class\")"
      ],
      "metadata": {
        "colab": {
          "base_uri": "https://localhost:8080/"
        },
        "id": "dlzjnAQXhWsP",
        "outputId": "dbd24560-9692-4a7f-99f2-175ef3bff33c"
      },
      "execution_count": null,
      "outputs": [
        {
          "output_type": "stream",
          "name": "stdout",
          "text": [
            "Welcome Mustafa with id 420 to the class\n"
          ]
        }
      ]
    },
    {
      "cell_type": "markdown",
      "source": [
        "**Exercise 9: print the following using Formatting option 1**"
      ],
      "metadata": {
        "id": "P9SgYysHh5BM"
      }
    },
    {
      "cell_type": "code",
      "source": [
        "name = 'Jems Bond'\n",
        "id = 420\n",
        "email = '420@com'\n",
        "\n",
        "# print the following message using Formatting option 1: Hello, Jems Bond. Your id is: 420 and email is 420@com. Welcome to the club!\n"
      ],
      "metadata": {
        "id": "E4iq5UViiBix"
      },
      "execution_count": null,
      "outputs": []
    },
    {
      "cell_type": "markdown",
      "source": [
        "**Exercise 10: print the following using Formatting option 2**"
      ],
      "metadata": {
        "id": "njO7ogtYiiWc"
      }
    },
    {
      "cell_type": "code",
      "source": [
        "name = 'Jems Bond'\n",
        "id = 420\n",
        "email = '420@com'\n",
        "\n",
        "# print the following message using Formatting option 2: Hello, Jems Bond. Your id is: 420 and email is 420@com. Welcome to the club!\n"
      ],
      "metadata": {
        "id": "lhThS4dricFP"
      },
      "execution_count": null,
      "outputs": []
    },
    {
      "cell_type": "markdown",
      "source": [
        "**Exercise 11: print the following using Formatting option 3**"
      ],
      "metadata": {
        "id": "bCW8_3tSikMf"
      }
    },
    {
      "cell_type": "code",
      "source": [
        "name = 'Jems Bond'\n",
        "id = 420\n",
        "email = '420@com'\n",
        "\n",
        "# print the following message using Formatting option 3: Hello, Jems Bond. Your id is: 420 and email is 420@com. Welcome to the club!\n"
      ],
      "metadata": {
        "id": "8X6IQtqBicYs"
      },
      "execution_count": null,
      "outputs": []
    },
    {
      "cell_type": "markdown",
      "source": [
        "#**Types of Variables**\n",
        "\n",
        "---\n",
        "\n"
      ],
      "metadata": {
        "id": "AFDqiO19WeVs"
      }
    },
    {
      "cell_type": "markdown",
      "source": [
        "Python has five standard data types-\n",
        "\n",
        "\n",
        "1.   Numbers: Integer, Float, Complex\n",
        "2.   String\n",
        "3. List\n",
        "4.  Tuple\n",
        "5. Set\n",
        "6. Dictionary"
      ],
      "metadata": {
        "id": "L_MqcHKwWi4e"
      }
    },
    {
      "cell_type": "code",
      "source": [
        "# Numbers\n",
        "x = 1234   # integer\n",
        "y = 12.45  # float\n",
        "z = 3+6j  # complex\n",
        "\n",
        "# String : written within quotation marks\n",
        "\n",
        "a = 'This is a string'\n",
        "b = '1234'\n",
        "c = 'I have a case with no: 123456'\n",
        "\n",
        "print(x)\n",
        "print(y)\n",
        "print(z)\n",
        "\n",
        "print(a)\n",
        "print(b)\n",
        "print(c)"
      ],
      "metadata": {
        "colab": {
          "base_uri": "https://localhost:8080/"
        },
        "id": "ewuPhCvNW0dc",
        "outputId": "80fff6e5-7639-45cb-dfe1-d3589c9a5777"
      },
      "execution_count": null,
      "outputs": [
        {
          "output_type": "stream",
          "name": "stdout",
          "text": [
            "1234\n",
            "12.45\n",
            "(3+6j)\n",
            "This is a string\n",
            "1234\n",
            "I have a case with no: 123456\n"
          ]
        }
      ]
    },
    {
      "cell_type": "markdown",
      "source": [
        "**Exercise 12: declare one integer, one string and one float variable, and then print their values**"
      ],
      "metadata": {
        "id": "yS5-rblKXacb"
      }
    },
    {
      "cell_type": "code",
      "source": [
        "a=('1')\n",
        "b=str('athoi')\n",
        "print(a,b)"
      ],
      "metadata": {
        "id": "k6gfSz2PXjzF",
        "colab": {
          "base_uri": "https://localhost:8080/"
        },
        "outputId": "03465938-6a39-4592-f64b-ecab2ea1dcda"
      },
      "execution_count": null,
      "outputs": [
        {
          "output_type": "stream",
          "name": "stdout",
          "text": [
            "1 athoi\n"
          ]
        }
      ]
    },
    {
      "cell_type": "markdown",
      "source": [
        "**Checking the type of the variable in program**\n",
        "\n",
        "---\n",
        "\n"
      ],
      "metadata": {
        "id": "x4p9prMLXkl_"
      }
    },
    {
      "cell_type": "code",
      "source": [
        "# Numbers\n",
        "x = 1234   # integer\n",
        "y = 12.45  # float\n",
        "z = 3+6j  # complex\n",
        "\n",
        "# Sring : written within quotation marks\n",
        "\n",
        "a = 'This is a string'\n",
        "b = '1234'\n",
        "c = 'I have a case with no: 123456'\n",
        "\n",
        "print(type(x))\n",
        "print(type(y))\n",
        "print(type(z))\n",
        "print(type(a))\n",
        "print()\n",
        "\n",
        "print('x = ', x, 'type of x is: ', type(x))\n",
        "print('y = ', y, 'type of y is: ', type(y))\n",
        "print('b = ', b, 'type of b is: ', type(b))"
      ],
      "metadata": {
        "colab": {
          "base_uri": "https://localhost:8080/"
        },
        "id": "mcKDif14XshZ",
        "outputId": "b90b5091-1fcc-40b4-e69f-bd94f92d757d"
      },
      "execution_count": null,
      "outputs": [
        {
          "output_type": "stream",
          "name": "stdout",
          "text": [
            "<class 'int'>\n",
            "<class 'float'>\n",
            "<class 'complex'>\n",
            "<class 'str'>\n",
            "\n",
            "x =  1234 type of x is:  <class 'int'>\n",
            "y =  12.45 type of y is:  <class 'float'>\n",
            "b =  1234 type of b is:  <class 'str'>\n"
          ]
        }
      ]
    },
    {
      "cell_type": "markdown",
      "source": [
        "**Exercise 13: declare four variables of four different types.**\n",
        "\n",
        "**Then print their values and data types.**"
      ],
      "metadata": {
        "id": "8Oy0sJxKZFFw"
      }
    },
    {
      "cell_type": "code",
      "source": [
        "#boolean\n",
        "\n",
        "a=bool(0)\n",
        "b=1\n",
        "c=3.5\n",
        "d='sdf'\n",
        "\n",
        "print(a,type(a))\n",
        "print(b,type(b))\n",
        "print(c,type(c))\n",
        "print(d,type(d))"
      ],
      "metadata": {
        "id": "-11yeAkoZBha",
        "colab": {
          "base_uri": "https://localhost:8080/"
        },
        "outputId": "182390ee-a411-4ff4-fd34-947218666025"
      },
      "execution_count": null,
      "outputs": [
        {
          "output_type": "stream",
          "name": "stdout",
          "text": [
            "False <class 'bool'>\n",
            "1 <class 'int'>\n",
            "3.5 <class 'float'>\n",
            "sdf <class 'str'>\n"
          ]
        }
      ]
    },
    {
      "cell_type": "markdown",
      "source": [
        "**Exercise 14: For the following variables check and print their data types**"
      ],
      "metadata": {
        "id": "qAj9ZgDAaavZ"
      }
    },
    {
      "cell_type": "code",
      "source": [
        "name = 'My name is Khan'\n",
        "CGPA = 3.768\n",
        "age = 34\n",
        "j=5\n",
        "w = -.7+7j\n",
        "print(w,type(w))\n",
        "\n",
        "# Print the datatype for name\n",
        "\n",
        "# Print the datatype for CGPA\n",
        "\n",
        "# Print the datatype for age\n",
        "\n",
        "# Print the datatype for w"
      ],
      "metadata": {
        "id": "VM54tQAeaiey",
        "colab": {
          "base_uri": "https://localhost:8080/"
        },
        "outputId": "54d2cd06-8c33-4b4c-956d-24fcb22f18e2"
      },
      "execution_count": null,
      "outputs": [
        {
          "output_type": "stream",
          "name": "stdout",
          "text": [
            "(-0.7+7j) <class 'complex'>\n"
          ]
        }
      ]
    },
    {
      "cell_type": "markdown",
      "source": [
        "# **User Input**\n",
        "\n",
        "---\n",
        "\n"
      ],
      "metadata": {
        "id": "KAVEZ8JTeB1B"
      }
    },
    {
      "cell_type": "markdown",
      "source": [
        "*   *input('Prompt')* function is used to take input from the user.\n",
        "*   User input is always stored in a variable.\n",
        "\n"
      ],
      "metadata": {
        "id": "wvTmqt0dIInd"
      }
    },
    {
      "cell_type": "code",
      "source": [
        "name = input('Enter your name: ') # input() function displaying prompt 'Enter your name:' and wait for a user input\n",
        "                                  # While user enters the value and press enter, the value is stored in the 'name' variable\n",
        "print(type(name))                       # print the variable value"
      ],
      "metadata": {
        "colab": {
          "base_uri": "https://localhost:8080/"
        },
        "id": "4Xm6UOq8IB8m",
        "outputId": "11a1a1bf-4f62-40fd-84dc-667df25819b7"
      },
      "execution_count": null,
      "outputs": [
        {
          "output_type": "stream",
          "name": "stdout",
          "text": [
            "Enter your name: 5\n",
            "<class 'str'>\n"
          ]
        }
      ]
    },
    {
      "cell_type": "markdown",
      "source": [
        "**Exercise: 15**\n",
        "\n",
        "\n",
        "1.   Prompt user to enter their email address and phone number as input.\n",
        "2.   Take the inputs in two variables name 'user_email' and 'user_phone'\n",
        "3.   Print the two variable using two print functions.\n",
        "\n",
        "\n"
      ],
      "metadata": {
        "id": "TEkAZA-meGjJ"
      }
    },
    {
      "cell_type": "code",
      "source": [
        "user_email=input('enter your email:')\n",
        "user_phone=input('enter your phone number:')\n",
        "print(user_email)\n",
        "print(user_phone)"
      ],
      "metadata": {
        "id": "O31IoWm7JsGJ",
        "colab": {
          "base_uri": "https://localhost:8080/"
        },
        "outputId": "b5b41948-d887-4fd0-b6f2-9b111ad447f3"
      },
      "execution_count": null,
      "outputs": [
        {
          "output_type": "stream",
          "name": "stdout",
          "text": [
            "enter your emailgvb@tft.com\n",
            "enter your phone number9008\n",
            "gvb@tft.com\n",
            "9008\n"
          ]
        }
      ]
    },
    {
      "cell_type": "markdown",
      "source": [
        "**Exercise: 16**\n",
        "\n",
        "\n",
        "1.   Take two numbers as input from the user and store them in two variables, a and b.\n",
        "2.   Add the two numbers and store the result in another varibale c (i.e., c = a + b)\n",
        "3.   Print the result formatteed as follows: a + b = c"
      ],
      "metadata": {
        "id": "b1jWgvdmT4OX"
      }
    },
    {
      "cell_type": "code",
      "source": [
        "a=2\n",
        "b=4\n",
        "c=a+b\n",
        "print(a,'+',b,'=',c)"
      ],
      "metadata": {
        "id": "kGqFLNrnT7WX",
        "colab": {
          "base_uri": "https://localhost:8080/"
        },
        "outputId": "b2692189-c31a-45da-d704-d93022eb6f84"
      },
      "execution_count": null,
      "outputs": [
        {
          "output_type": "stream",
          "name": "stdout",
          "text": [
            "2 + 4 = 6\n"
          ]
        }
      ]
    },
    {
      "cell_type": "markdown",
      "source": [
        "**Did you Notice any issues with the above program!!**\n",
        "\n",
        "In python all inputs are taken as **string** type.\n",
        "\n",
        "You need to convert them to other data types explicitly."
      ],
      "metadata": {
        "id": "2WPog1gCT-9u"
      }
    },
    {
      "cell_type": "code",
      "source": [
        "num1 = input('Enter Number 1: ')\n",
        "num2 = input('Enter Number 2: ')\n",
        "\n",
        "# check the type of num1 and num2\n",
        "print(f'{num1} type is: {type(num1)}\\n{num2} type is: {type(num2)}')\n",
        "\n",
        "# convert both the variables into integer using int() function\n",
        "num1 = int(num1)\n",
        "num2 = int(num2)\n",
        "\n",
        "# check the type of num1 and num2\n",
        "print(f'{num1} type is: {type(num1)}\\n{num2} type is: {type(num2)}')\n",
        "\n",
        "# add the two numbers and print the result\n",
        "add = num1 + num2\n",
        "\n",
        "print(f'{num1} + {num2} = {add}')"
      ],
      "metadata": {
        "id": "MfkmoYoBUET2",
        "colab": {
          "base_uri": "https://localhost:8080/"
        },
        "outputId": "2509c260-f462-45d7-f9bd-12193f9d9879"
      },
      "execution_count": null,
      "outputs": [
        {
          "output_type": "stream",
          "name": "stdout",
          "text": [
            "Enter Number 1: 5\n",
            "Enter Number 2: 19\n",
            "5 type is: <class 'str'>\n",
            "19 type is: <class 'str'>\n",
            "5 type is: <class 'int'>\n",
            "19 type is: <class 'int'>\n",
            "5 + 19 = 24\n"
          ]
        }
      ]
    },
    {
      "cell_type": "markdown",
      "source": [
        "**Automatic Type conversion**\n",
        "Data types are auto converted to the upper types while doing artihmetic operations."
      ],
      "metadata": {
        "id": "SGOF8q9gULUN"
      }
    },
    {
      "cell_type": "code",
      "source": [
        "a = 23.4   # type of a is float\n",
        "b = 16     # type of b is int\n",
        "\n",
        "c = a + b  # adding one float and one int number. so what will be the type of c? float or int?\n",
        "\n",
        "print(f'{a} type is: {type(a)}')\n",
        "print(f'{b} type is: {type(b)}')\n",
        "print(f'{c} type is: {type(c)}')\n",
        "\n",
        "a = 'I am Bond' # type of a is string\n",
        "b = 420         # type of b is int\n",
        "\n",
        "c = a + b       # what will be the type of c??\n",
        "\n"
      ],
      "metadata": {
        "id": "fnEMm0MGUMP2",
        "colab": {
          "base_uri": "https://localhost:8080/",
          "height": 280
        },
        "outputId": "ea5d3715-c580-424e-9506-8ce16ec3d2a8"
      },
      "execution_count": null,
      "outputs": [
        {
          "output_type": "stream",
          "name": "stdout",
          "text": [
            "23.4 type is: <class 'float'>\n",
            "16 type is: <class 'int'>\n",
            "39.4 type is: <class 'float'>\n"
          ]
        },
        {
          "output_type": "error",
          "ename": "TypeError",
          "evalue": "ignored",
          "traceback": [
            "\u001b[0;31m---------------------------------------------------------------------------\u001b[0m",
            "\u001b[0;31mTypeError\u001b[0m                                 Traceback (most recent call last)",
            "\u001b[0;32m<ipython-input-15-dcbe2719ac67>\u001b[0m in \u001b[0;36m<cell line: 13>\u001b[0;34m()\u001b[0m\n\u001b[1;32m     11\u001b[0m \u001b[0mb\u001b[0m \u001b[0;34m=\u001b[0m \u001b[0;36m420\u001b[0m         \u001b[0;31m# type of b is int\u001b[0m\u001b[0;34m\u001b[0m\u001b[0;34m\u001b[0m\u001b[0m\n\u001b[1;32m     12\u001b[0m \u001b[0;34m\u001b[0m\u001b[0m\n\u001b[0;32m---> 13\u001b[0;31m \u001b[0mc\u001b[0m \u001b[0;34m=\u001b[0m \u001b[0ma\u001b[0m \u001b[0;34m+\u001b[0m \u001b[0mb\u001b[0m       \u001b[0;31m# what will be the type of c??\u001b[0m\u001b[0;34m\u001b[0m\u001b[0;34m\u001b[0m\u001b[0m\n\u001b[0m\u001b[1;32m     14\u001b[0m \u001b[0;34m\u001b[0m\u001b[0m\n",
            "\u001b[0;31mTypeError\u001b[0m: can only concatenate str (not \"int\") to str"
          ]
        }
      ]
    },
    {
      "cell_type": "markdown",
      "source": [
        "# **Lesson Exercise**\n",
        "\n",
        "---"
      ],
      "metadata": {
        "id": "E7g1cdd4KgKx"
      }
    },
    {
      "cell_type": "markdown",
      "source": [
        "**Exercise: 17**\n",
        "Get the following information from user and Print out your full name, your semester, your ID number, your hobby and your favorite movie name. All of the information should be in separate lines and should appear formatted like below:\n",
        "\n",
        "Full name: ……………\n",
        "\n",
        "ID: …………..\n",
        "\n",
        "Semester: …………\n",
        "\n",
        "Hobby: …………..\n",
        "\n",
        "Favorite movie: …………..\n",
        "\n",
        "OUTPUT\n",
        "Your name is ……………\n",
        "\n",
        "Your ID is ………\n",
        "\n",
        "Your semester is …………\n",
        "\n",
        "Your hobby is …………\n",
        "\n",
        "Your favorite movie is …………..\n"
      ],
      "metadata": {
        "id": "I6qNvfuhKBd2"
      }
    },
    {
      "cell_type": "code",
      "source": [
        "Full_Name=input('Full Name:')\n",
        "ID=input('ID:')\n",
        "Semester=input('Semester:')\n",
        "Hobby=input('Hobby:')\n",
        "Favorite_movie=input('Favorite movie:')\n",
        "# Output\n",
        "print('your name is {}\\nYour ID is {}\\nYour semester is{}\\nYour hobby is{}\\nYour favorite movie is{} '.format(Full_Name,ID,Semester,Hobby,Favorite_movie))"
      ],
      "metadata": {
        "id": "1TVDPVj6r1ZY",
        "colab": {
          "base_uri": "https://localhost:8080/"
        },
        "outputId": "15d6ede4-adce-406a-8e49-dd089eb25564"
      },
      "execution_count": null,
      "outputs": [
        {
          "output_type": "stream",
          "name": "stdout",
          "text": [
            "Full Name:kmk\n",
            "ID:909\n",
            "Semester:ko\n",
            "Hobby:ghg\n",
            "Favorite movie:jhhj\n",
            "your name is kmk\n",
            "Your ID is 909\n",
            "Your semester isko\n",
            "Your hobby isghg\n",
            "Your favorite movie isjhhj \n"
          ]
        }
      ]
    },
    {
      "cell_type": "code",
      "source": [],
      "metadata": {
        "id": "HWbL5CVqKbR3"
      },
      "execution_count": null,
      "outputs": []
    },
    {
      "cell_type": "markdown",
      "source": [
        "**Exercise: 18**\n",
        "Take input from user their name, address, email and phone number. Then print the information on the screen. Following is the sample input and output:\n",
        "\n",
        "Name: Mahbubul Haq Bhuiyan\n",
        "\n",
        "Address: Dohs, Mirpur\n",
        "\n",
        "Email: xyz@gmail.com\n",
        "\n",
        "Phone: 12345678\n",
        "\n",
        "Your information is as follows:\n",
        "\n",
        "Hello Mahbubul Haq! Your address is: Dohs, Mirpur. You will receive a confirmation email at: xyz@gmail.com and a message to your registered mobile number (12345678).\n"
      ],
      "metadata": {
        "id": "_dfP12cKLz1F"
      }
    },
    {
      "cell_type": "code",
      "source": [
        "Name=input('name')\n",
        "address=input('address')\n",
        "email=input('email')\n",
        "phone=input('phone')\n",
        "print(\"Hello {}! Your address is:{}. You will receive a confirmation email at:{} and a message to your registered mobile number{}\".format(Name,address, email,phone))\n",
        "\n"
      ],
      "metadata": {
        "id": "I4fLy03QMarB",
        "colab": {
          "base_uri": "https://localhost:8080/"
        },
        "outputId": "a4ef1707-9edd-4d91-a118-af9cfb8d6063"
      },
      "execution_count": null,
      "outputs": [
        {
          "output_type": "stream",
          "name": "stdout",
          "text": [
            "namesrhhyy\n",
            "addressguujhjj\n",
            "emailathoi@gail.com\n",
            "phone90854434\n",
            "Hello srhhyy! Your address is:guujhjj. You will receive a confirmation email at:athoi@gail.com and a message to your registered mobile number90854434\n"
          ]
        }
      ]
    },
    {
      "cell_type": "markdown",
      "source": [
        "# **Using .2f formatting**"
      ],
      "metadata": {
        "id": "i8WXnFiTA07u"
      }
    },
    {
      "cell_type": "code",
      "source": [
        "x = 35\n",
        "y = 45\n",
        "z = x/y\n",
        "#using .2f to limit the values after '.'\n",
        "#print(f'{x} / {y} is: {x/y:.2f}')\n",
        "#print(f'{x} / {y} is: {z:.2f}')\n",
        "print(\"x/y is: {0:.2f}\".format(z))\n",
        "#print(z)"
      ],
      "metadata": {
        "colab": {
          "base_uri": "https://localhost:8080/"
        },
        "id": "V-UQVAyRApif",
        "outputId": "020b076c-1c0a-4f04-b11c-041d169ff27a"
      },
      "execution_count": null,
      "outputs": [
        {
          "output_type": "stream",
          "name": "stdout",
          "text": [
            "x/y is: 0.78\n"
          ]
        }
      ]
    },
    {
      "cell_type": "markdown",
      "source": [
        "**Exercise: 19** Make a simple calculator for two numbers. Take two numbers as input from the user and print the result of simple arithmetic between them.\n",
        "Following is the simple input and output.\n",
        "\n",
        "Enter Two numbers..\n",
        "\n",
        "Enter number 1: 35\n",
        "\n",
        "Enter number 2: 45\n",
        "\n",
        "Addition (35 + 45) = 80\n",
        "\n",
        "Subtraction (35 - 45) = -10\n",
        "\n",
        "Division (35 / 45) = .778\n",
        "\n",
        "Multiplication (35 * 45) = 1575\n"
      ],
      "metadata": {
        "id": "puZRM0xSMbGF"
      }
    },
    {
      "cell_type": "code",
      "source": [
        "num1=int(input('enter your number 1:'))\n",
        "num2=int(input('enter your number 2:' ))\n",
        "addition=num1+num2\n",
        "subtraction=num1-num2\n",
        "division=num1/num2\n",
        "multiplication=num1*num2\n",
        "\n",
        "print('addition',addition)\n",
        "print('subtraction',subtraction)\n",
        "print('division {0:.2f}'.format(division))\n",
        "print('multiplication',multiplication)\n",
        "\n",
        "\n"
      ],
      "metadata": {
        "id": "-L5I11z2MrEj",
        "colab": {
          "base_uri": "https://localhost:8080/"
        },
        "outputId": "b45c5a34-0c7e-47c4-de9d-ed08804e99ab"
      },
      "execution_count": null,
      "outputs": [
        {
          "output_type": "stream",
          "name": "stdout",
          "text": [
            "enter your number 1:54\n",
            "enter your number 2:34\n",
            "addition 88\n",
            "subtraction 20\n",
            "division 1.59\n",
            "multiplication 1836\n"
          ]
        }
      ]
    },
    {
      "cell_type": "code",
      "source": [
        "\n",
        "\n"
      ],
      "metadata": {
        "id": "ubMkBTHYy4N5"
      },
      "execution_count": null,
      "outputs": []
    }
  ]
}